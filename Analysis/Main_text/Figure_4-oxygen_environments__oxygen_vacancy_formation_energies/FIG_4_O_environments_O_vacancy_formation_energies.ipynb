{
 "cells": [
  {
   "cell_type": "code",
   "execution_count": 130,
   "metadata": {},
   "outputs": [
    {
     "name": "stdout",
     "output_type": "stream",
     "text": [
      "FIG_4_O_environments_O_vacancy_formation_energies.ipynb\r\n",
      "Figure_4-oxygen_environments__oxygen_vacancy_formation_energies.png\r\n",
      "relaxed_sqs.cif\r\n",
      "test.png\r\n",
      "wrong_pos_FIG_4_O_environments_O_vacancy_formation_energies.ipynb\r\n"
     ]
    }
   ],
   "source": [
    "# import the modules we need. \n",
    "\n",
    "import ase\n",
    "from pymatgen import Structure\n",
    "from ase.io import read, write\n",
    "from ase import Atoms\n",
    "from icet import (ClusterSpace, StructureContainer,\n",
    "                  CrossValidationEstimator, ClusterExpansion)\n",
    "from pymatgen.io.ase import AseAtomsAdaptor\n",
    "from tqdm import tqdm\n",
    "from icet.tools.structure_generation import occupy_structure_randomly\n",
    "\n",
    "from ase import Atom\n",
    "from ase.build import bulk\n",
    "from icet import ClusterSpace\n",
    "from icet.tools.structure_generation import *\n",
    "\n",
    "import json\n",
    "\n",
    "\n",
    "from polyhedral_analysis.configuration import Configuration\n",
    "from polyhedral_analysis.octahedral_analysis import *\n",
    "from polyhedral_analysis.polyhedra_recipe import PolyhedraRecipe\n",
    "\n",
    "\n",
    "import matplotlib.pyplot as plt\n",
    "import matplotlib.style as style\n",
    "%matplotlib inline\n",
    "%config InlineBackend.figure_format = 'retina'\n",
    "plt.rcParams[\"font.family\"] = \"Helvetica\"\n",
    "plt.rcParams[\"mathtext.fontset\"] ='custom'\n",
    "plt.rcParams['mathtext.rm'] = 'Helvetica'\n",
    "plt.rcParams['mathtext.it'] = 'Helvetica:italic'\n",
    "plt.rcParams['mathtext.bf'] = 'Helvetica'\n",
    "plt.rcParams[\"font.size\"] = \"8\"\n",
    "plt.rcParams['axes.linewidth'] = 0.75\n",
    "plt.rcParams['lines.linewidth'] = 0.75\n",
    "plt.rcParams['lines.markersize'] = 4\n",
    "\n",
    "! ls"
   ]
  },
  {
   "cell_type": "code",
   "execution_count": 131,
   "metadata": {},
   "outputs": [
    {
     "name": "stdout",
     "output_type": "stream",
     "text": [
      "\u001b[34mJsons\u001b[m\u001b[m           \u001b[34mdatasets\u001b[m\u001b[m        \u001b[34mstructure_files\u001b[m\u001b[m\r\n"
     ]
    }
   ],
   "source": [
    "! ls ../../../Data/"
   ]
  },
  {
   "cell_type": "code",
   "execution_count": 132,
   "metadata": {},
   "outputs": [
    {
     "ename": "SyntaxError",
     "evalue": "EOL while scanning string literal (<ipython-input-132-e3772181769a>, line 3)",
     "output_type": "error",
     "traceback": [
      "\u001b[0;36m  File \u001b[0;32m\"<ipython-input-132-e3772181769a>\"\u001b[0;36m, line \u001b[0;32m3\u001b[0m\n\u001b[0;31m    sqs = read(mv /structure_files/LNMO_SQS.cif')\u001b[0m\n\u001b[0m                                                 ^\u001b[0m\n\u001b[0;31mSyntaxError\u001b[0m\u001b[0;31m:\u001b[0m EOL while scanning string literal\n"
     ]
    }
   ],
   "source": [
    "path = '../../../Data/'\n",
    "\n",
    "sqs = read(mv /structure_files/LNMO_SQS.cif')\n",
    "sqs = AseAtomsAdaptor.get_structure(sqs)\n",
    "\n",
    "# Note that the 'pristine model' contains Na in the Li layer\n",
    "pristine = read(f'{path}/structure_files/LNMO_pristine_from_CE_MC.cif')\n",
    "pristine = AseAtomsAdaptor.get_structure(pristine)\n",
    "\n",
    "# Note that to obtain the pristine model, the cluster expansion uses Na as a dummy atom \n",
    "# in the Li layer (to prevent mixing between Li in the TM layer and Li in the Li layer)\n",
    "# so to get the correct environments in this \n",
    "pristine['Na'] = 'Li'\n",
    "#print(pristine)"
   ]
  },
  {
   "cell_type": "code",
   "execution_count": null,
   "metadata": {},
   "outputs": [],
   "source": [
    "recipe_O = PolyhedraRecipe( method='distance cutoff', \n",
    "                          coordination_cutoff=2.5, \n",
    "                          central_atoms='O',\n",
    "                          vertex_atoms=['Li','Mn','Ni'])"
   ]
  },
  {
   "cell_type": "code",
   "execution_count": null,
   "metadata": {},
   "outputs": [],
   "source": [
    "def get_envs(structure):\n",
    "    #structure = AseAtomsAdaptor.get_structure(structure)\n",
    "    config_O = Configuration( structure=structure, recipes=[recipe_O] )\n",
    "\n",
    "    O_Li6 = []\n",
    "    O_Li5 = []\n",
    "    O_Li4 = []\n",
    "    O_Li3 = []\n",
    "    O_Li2 = []\n",
    "    O_Li1 = []\n",
    "    O_Li0 = []\n",
    "\n",
    "    for p in config_O.polyhedra:\n",
    "        if   p.vertex_labels.count('Li') == 6:\n",
    "            O_Li6.append(p)\n",
    "        elif p.vertex_labels.count('Li') == 5:\n",
    "            O_Li5.append(p)\n",
    "        elif p.vertex_labels.count('Li') == 4:\n",
    "            O_Li4.append(p)\n",
    "        elif p.vertex_labels.count('Li') == 3:\n",
    "            O_Li3.append(p)\n",
    "        elif p.vertex_labels.count('Li') == 2:\n",
    "            O_Li2.append(p)\n",
    "        elif p.vertex_labels.count('Li') == 1:\n",
    "            O_Li1.append(p)\n",
    "        elif p.vertex_labels.count('Li') == 0:\n",
    "            O_Li0.append(p)\n",
    "\n",
    "            \n",
    "    total = len(config_O.polyhedra)\n",
    "    print(total)\n",
    "\n",
    "    frac_O_Li6 = len(O_Li6) / total * 100\n",
    "    frac_O_Li5 = len(O_Li5) / total * 100\n",
    "    frac_O_Li4 = len(O_Li4) / total * 100\n",
    "    frac_O_Li3 = len(O_Li3) / total * 100\n",
    "    frac_O_Li2 = len(O_Li2) / total * 100\n",
    "    frac_O_Li1 = len(O_Li1) / total * 100\n",
    "    frac_O_Li0 = len(O_Li0) / total * 100\n",
    "    \n",
    "    sites_list = [frac_O_Li6, frac_O_Li5, frac_O_Li4, frac_O_Li3, \n",
    "              frac_O_Li2, frac_O_Li1, frac_O_Li0 ]\n",
    "    \n",
    "    return sites_list\n",
    "\n",
    "sites_list  = get_envs(sqs)\n",
    "p_sites_list  = get_envs(pristine)"
   ]
  },
  {
   "cell_type": "code",
   "execution_count": null,
   "metadata": {},
   "outputs": [],
   "source": [
    "# Reminder - need to label the origin of 'data disordered' and 'data'\n",
    "\n",
    "import numpy as np\n",
    "from numpy import genfromtxt\n",
    "LNMO_pristine_O_vac_data = (genfromtxt(f'{path}/datasets/LNMO_pristine_O_vac_data.dat'))\n",
    "print(LNMO_pristine_O_vac_data)\n",
    "LNMO_disordered_O_vac_data = (genfromtxt(f'{path}/datasets/LNMO_disordered_O_vac_data.dat'))\n",
    "print(LNMO_disordered_O_vac_data)\n"
   ]
  },
  {
   "cell_type": "code",
   "execution_count": null,
   "metadata": {},
   "outputs": [],
   "source": [
    "SQS_fully_lithiated = {'struc':[], 'E': [], 'comp':[], 'vol':[]}\n",
    "O2 = {'struc':[], 'E': [], 'comp':[]}\n",
    "SQS_1_O_vac = {'struc':[], 'E': [], 'comp':[], 'O_vac_form_E':[], 'vol':[]}\n",
    "SQS_2_O_vac = {'struc':[], 'E': [], 'comp':[], 'O_vac_form_E':[], 'vol':[]}\n",
    "SQS_3_O_vac = {'struc':[], 'E': [], 'comp':[], 'O_vac_form_E':[], 'vol':[]}\n",
    "\n",
    "def get_json(filename, results):\n",
    "\n",
    "    with open(f'{path}/Jsons/{filename}.json') as data:\n",
    "            cluster_data = json.load(data)\n",
    "    for n, calculation in enumerate(cluster_data['calculation_results']):\n",
    "        atoms = ase.Atoms(numbers=calculation['structure']['numbers'],\n",
    "                          positions=calculation['structure']['positions'],\n",
    "                          pbc=calculation['structure']['pbc'],\n",
    "                          cell=calculation['structure']['cell'])\n",
    "        numbers = atoms.numbers\n",
    "        epfu = float(calculation['energy']) *27.2114\n",
    "        x_O = ( np.count_nonzero(numbers == 8) / 48 ) \n",
    "        results['E'].append(epfu)\n",
    "        results['comp'].append(x_O)\n",
    "        results['struc'].append(atoms)\n",
    "\n",
    "get_json('LNMO_SQS_fully_lithiated',SQS_fully_lithiated)\n",
    "get_json('LNMO_SQS_1_O_vac',SQS_1_O_vac)\n",
    "get_json('LNMO_SQS_2_O_vac',SQS_2_O_vac)\n",
    "get_json('LNMO_SQS_3_O_vac',SQS_3_O_vac)\n",
    "get_json('O2',O2)\n",
    "\n"
   ]
  },
  {
   "cell_type": "code",
   "execution_count": null,
   "metadata": {},
   "outputs": [],
   "source": [
    "for e in SQS_1_O_vac['E']:\n",
    "    O_vac_form_E = e - SQS_fully_lithiated['E'][0] + (0.5*O2['E'][0])\n",
    "    print(O_vac_form_E)\n",
    "    SQS_1_O_vac['O_vac_form_E'].append(O_vac_form_E)\n",
    "\n",
    "    "
   ]
  },
  {
   "cell_type": "code",
   "execution_count": 133,
   "metadata": {},
   "outputs": [],
   "source": [
    "struc = AseAtomsAdaptor.get_structure(SQS_fully_lithiated['struc'][0])\n",
    "config_O = Configuration( structure=struc, recipes=[recipe_O] )\n",
    "O_coord = [ 6- p.vertex_labels.count('Li') for p in config_O.polyhedra ]"
   ]
  },
  {
   "cell_type": "code",
   "execution_count": 134,
   "metadata": {},
   "outputs": [
    {
     "name": "stdout",
     "output_type": "stream",
     "text": [
      "[0.09383021207577258, -0.352668589041059, -0.4058927269088599, -4.222]\n"
     ]
    }
   ],
   "source": [
    "OTM0 = []\n",
    "OTM1 = []\n",
    "OTM2 = []\n",
    "OTM3 = []\n",
    "OTM4 = []\n",
    "OTM5 = []\n",
    "for c, e in zip(O_coord, SQS_1_O_vac['O_vac_form_E']):\n",
    "    if c == 0:\n",
    "        OTM0.append(e)\n",
    "    if c == 1:\n",
    "        OTM1.append(e)\n",
    "    if c == 2:\n",
    "        OTM2.append(e)\n",
    "    if c == 3:\n",
    "        OTM3.append(e)\n",
    "    if c == 4:\n",
    "        OTM4.append(e)\n",
    "    if c == 5:\n",
    "        OTM5.append(e)\n",
    "for c, e in zip(LNMO_disordered_O_vac_data[:,0], LNMO_disordered_O_vac_data[:,1]):\n",
    "    if c == 0:\n",
    "        OTM0.append(e)\n",
    "    if c == 1:\n",
    "        OTM1.append(e)\n",
    "    if c == 2:\n",
    "        OTM2.append(e)\n",
    "    if c == 3:\n",
    "        OTM3.append(e)\n",
    "    if c == 4:\n",
    "        OTM4.append(e)\n",
    "    if c == 5:\n",
    "        OTM5.append(e)\n",
    "print(OTM0)    "
   ]
  },
  {
   "cell_type": "code",
   "execution_count": 135,
   "metadata": {},
   "outputs": [
    {
     "name": "stdout",
     "output_type": "stream",
     "text": [
      "[[0.09383021207577258, -0.352668589041059, -0.4058927269088599, -4.222], [1.9886380908410501, 3.122481345488268, 1.3470319189927977, 2.1343012592387822, 2.0658926159940165, 0.4396343159587559, 0.225, 0.195], [3.531208274243909, 2.1516926091262576, 3.142305666637185, 2.6369320083740604, 2.9009136093645793, 2.2812376490892348, 2.2419261558079597, 2.541302713272671, 2.8921074560475972, 3.252317547272469, 1.9366414591768262, 3.821178939249876, 3.3938742433074367, 2.745058955215427, 1.9551928311684605], [3.614607405672359, 5.305047602216291, 4.176477644765328, 2.094925547075036, 3.8761818863549706, 3.817850712859581, 2.594931756668302, 4.030040584095332, 3.937895980952817, 3.6052404255005968, 3.051697963323022, 2.2279408567683276, 3.3523550892114145], [3.656772558517332, 3.045198248290035, 4.9642016875423, 3.6015078378241014, 4.030856654104355, 4.001781817465599, 3.905603396180595, 5.318648676327939, 3.9212455973593023, 4.7, 4.2, 3.8, 4.35], [4.894558463069188, 3.9549964410816756]]\n"
     ]
    }
   ],
   "source": [
    "LNMO_disordered_O_vac_data = [OTM0, OTM1, OTM2, OTM3, OTM4, OTM5]\n",
    "print(LNMO_disordered_O_vac_data)"
   ]
  },
  {
   "cell_type": "code",
   "execution_count": 136,
   "metadata": {},
   "outputs": [
    {
     "name": "stdout",
     "output_type": "stream",
     "text": [
      "[99999.0]\n",
      "[[99999.0], [99999.0], [3.388, 2.564, 3.598], [4.512, 3.847, 4.571, 4.075], [99999.0], []]\n"
     ]
    }
   ],
   "source": [
    "OTM0 = []\n",
    "OTM1 = []\n",
    "OTM2 = []\n",
    "OTM3 = []\n",
    "OTM4 = []\n",
    "OTM5 = []\n",
    "for c, e in zip(LNMO_pristine_O_vac_data[:,0], LNMO_pristine_O_vac_data[:,1]):\n",
    "    if c == 0:\n",
    "        OTM0.append(e)\n",
    "    if c == 1:\n",
    "        OTM1.append(e)\n",
    "    if c == 2:\n",
    "        OTM2.append(e)\n",
    "    if c == 3:\n",
    "        OTM3.append(e)\n",
    "    if c == 4:\n",
    "        OTM4.append(e)\n",
    "    if c == 5:\n",
    "        OTM5.append(e)\n",
    "print(OTM0)    \n",
    "LNMO_pristine_O_vac_data = [OTM0, OTM1, OTM2, OTM3, OTM4, OTM5]\n",
    "print(LNMO_pristine_O_vac_data)"
   ]
  },
  {
   "cell_type": "code",
   "execution_count": 137,
   "metadata": {},
   "outputs": [
    {
     "data": {
      "image/png": "[encoded data removed]",
      "text/plain": [
       "<Figure size 316.8x237.6 with 4 Axes>"
      ]
     },
     "metadata": {
      "image/png": {
       "height": 311,
       "width": 327
      },
      "needs_background": "light"
     },
     "output_type": "display_data"
    }
   ],
   "source": [
    "\n",
    "\n",
    "fig, axes = plt.subplots(nrows=2, ncols=2,figsize=(4.4, 3.3))\n",
    "\n",
    "a = axes[0,0]\n",
    "b = axes[0,1]\n",
    "c = axes[1,0]\n",
    "d = axes[1,1]\n",
    "\n",
    "O_bar_colors = ['tab:blue',\n",
    "              'tab:orange',\n",
    "              'tab:green',\n",
    "              'tab:red', \n",
    "              'tab:purple',\n",
    "              'tab:brown',\n",
    "              'tab:pink']\n",
    "\n",
    "x = ['O–Li$_6$','O–Li$_5$TM',\n",
    "     'O–Li$_4$TM$_2$','O–Li$_3$TM$_3$',\n",
    "     'O–Li$_2$TM$_4$','O–Li$_1$TM$_5$','O–Li$_0$TM$_6$']\n",
    "\n",
    "N= len(x)\n",
    "ind = np.arange(N) \n",
    "width = 0.5\n",
    "linewidth = 0.75\n",
    "\n",
    "a.bar(ind , p_sites_list , width, color=O_bar_colors, \n",
    "      alpha=0.65, edgecolor='k', linewidth = linewidth)\n",
    "\n",
    "b.bar(ind , sites_list , width, color=O_bar_colors, \n",
    "      alpha=0.65, edgecolor='k', linewidth = linewidth)\n",
    "\n",
    "x1 = [-1,10]\n",
    "y1 = [0,0]\n",
    "\n",
    "colors = ['tab:blue',\n",
    "              'tab:orange',\n",
    "              'tab:green',\n",
    "              'tab:red', \n",
    "              'tab:purple',\n",
    "              'tab:brown',\n",
    "              'tab:pink']\n",
    "props = dict(color='black')\n",
    "\n",
    "flierprops = dict(marker='o', markerfacecolor='grey', markersize=1,\n",
    "                  linestyle='none')\n",
    "medianprops = dict(linestyle='-', linewidth=1.0, color='grey')\n",
    "\n",
    "box_1 = c.boxplot(LNMO_pristine_O_vac_data, flierprops=flierprops, \n",
    "                  medianprops=medianprops, patch_artist=True)\n",
    "box_2 = d.boxplot(LNMO_disordered_O_vac_data, flierprops=flierprops, \n",
    "                  medianprops=medianprops, patch_artist=True)\n",
    "\n",
    "marker_size = 3\n",
    "c.plot([3]*len(LNMO_pristine_O_vac_data[2]),LNMO_pristine_O_vac_data[2],'o', \n",
    "       color='tab:green', markersize = marker_size)\n",
    "c.plot([4]*len(LNMO_pristine_O_vac_data[3]),LNMO_pristine_O_vac_data[3],'o',  \n",
    "       color='tab:red', markersize = marker_size)\n",
    "\n",
    "for patch, color in zip(box_1['boxes'], colors):\n",
    "    patch.set_edgecolor('k')\n",
    "    patch.set_facecolor(color)\n",
    "    patch.set_alpha(0.65)\n",
    "    \n",
    "d.plot([1]*len(LNMO_disordered_O_vac_data[0]),LNMO_disordered_O_vac_data[0],'o', \n",
    "       color='tab:blue', markersize = marker_size)\n",
    "d.plot([2]*len(LNMO_disordered_O_vac_data[1]),LNMO_disordered_O_vac_data[1],'o', \n",
    "       color='tab:orange', markersize = marker_size)\n",
    "d.plot([3]*len(LNMO_disordered_O_vac_data[2]),LNMO_disordered_O_vac_data[2],'o', \n",
    "       color='tab:green', markersize = marker_size)\n",
    "d.plot([4]*len(LNMO_disordered_O_vac_data[3]),LNMO_disordered_O_vac_data[3],'o', \n",
    "       color='tab:red', markersize = marker_size)\n",
    "d.plot([5]*len(LNMO_disordered_O_vac_data[4]),LNMO_disordered_O_vac_data[4],'o', \n",
    "       color='tab:purple', markersize = marker_size)\n",
    "d.plot([6]*len(LNMO_disordered_O_vac_data[5]),LNMO_disordered_O_vac_data[5],'o', \n",
    "       color='tab:brown', markersize = marker_size)\n",
    "\n",
    "for patch, color in zip(box_2['boxes'], colors):\n",
    "    patch.set_edgecolor('k')\n",
    "    patch.set_facecolor(color)\n",
    "    patch.set_alpha(0.65)\n",
    "\n",
    "a.set_xticklabels([])\n",
    "a.set_xticks([])\n",
    "\n",
    "a.set_ylabel('% sites')\n",
    "\n",
    "left_axes = [a,b]\n",
    "for axis in left_axes:\n",
    "    axis.set_yticks([])\n",
    "    axis.set_xticklabels([])    \n",
    "    axis.set_xticks([])    \n",
    "    axis.set_yticks([0,10,20,30,40,50, 60])\n",
    "\n",
    "c.set_ylabel('O vacancy formation energy (eV)')\n",
    "\n",
    "bottom_axes = [c, d]\n",
    "for axis in bottom_axes:\n",
    "    axis.set_xlabel('O–{Li,Mn,Ni} sites')\n",
    "    axis.set_xticks([1,2,3,4,5,6,7])\n",
    "    axis.set_xlim([0.5, 7.5])\n",
    "    axis.set_ylim([-6.1, 6.1])\n",
    "    axis.plot(x1 , y1 , '--', color='black', \n",
    "      alpha=0.55)\n",
    "    axis.set_xticks(ind+1)\n",
    "    axis.set_xticklabels(x, rotation = 75)\n",
    "\n",
    "text_y_position = 53\n",
    "text_y_position_2 = 55\n",
    "\n",
    "fig.subplots_adjust(bottom=0.0, top=1.0, left=0.0, right=0.9,\n",
    "                    wspace=0.25, hspace=0.075)\n",
    "\n",
    "plt.savefig('Figure_4-oxygen_environments__oxygen_vacancy_formation_energies.png', \n",
    "            dpi=300, bbox_inches='tight')\n"
   ]
  },
  {
   "cell_type": "code",
   "execution_count": null,
   "metadata": {},
   "outputs": [],
   "source": []
  },
  {
   "cell_type": "code",
   "execution_count": null,
   "metadata": {},
   "outputs": [],
   "source": []
  },
  {
   "cell_type": "code",
   "execution_count": null,
   "metadata": {},
   "outputs": [],
   "source": []
  }
 ],
 "metadata": {
  "kernelspec": {
   "display_name": "Python 3",
   "language": "python",
   "name": "python3"
  },
  "language_info": {
   "codemirror_mode": {
    "name": "ipython",
    "version": 3
   },
   "file_extension": ".py",
   "mimetype": "text/x-python",
   "name": "python",
   "nbconvert_exporter": "python",
   "pygments_lexer": "ipython3",
   "version": "3.7.4"
  }
 },
 "nbformat": 4,
 "nbformat_minor": 2
}
