{
 "cells": [
  {
   "cell_type": "code",
   "execution_count": 13,
   "metadata": {},
   "outputs": [],
   "source": [
    "import json\n",
    "import ase\n",
    "from ase import Atoms\n",
    "\n",
    "import numpy as np\n",
    "\n",
    "import matplotlib.pyplot as plt\n",
    "import matplotlib.style as style\n",
    "%matplotlib inline\n",
    "%config InlineBackend.figure_format = 'retina'\n",
    "plt.rcParams[\"font.family\"] = \"Helvetica\"\n",
    "plt.rcParams[\"mathtext.fontset\"] ='custom'\n",
    "plt.rcParams['mathtext.rm'] = 'Helvetica'\n",
    "plt.rcParams['mathtext.it'] = 'Helvetica:italic'\n",
    "plt.rcParams['mathtext.bf'] = 'Helvetica'\n",
    "plt.rcParams[\"font.size\"] = \"8\"\n",
    "plt.rcParams['axes.linewidth'] = 0.75\n",
    "plt.rcParams['lines.linewidth'] = 0.75\n",
    "plt.rcParams['lines.markersize'] = 4"
   ]
  },
  {
   "cell_type": "code",
   "execution_count": 14,
   "metadata": {},
   "outputs": [
    {
     "name": "stdout",
     "output_type": "stream",
     "text": [
      "LNMO_SQS_1_O_vac.json         LNMO_SQS_3_O_vac.json\r\n",
      "LNMO_SQS_2_O_vac.json         LNMO_SQS_fully_lithiated.json\r\n"
     ]
    }
   ],
   "source": [
    "! ls ../../../Data/Jsons/SQS_jsons/"
   ]
  },
  {
   "cell_type": "code",
   "execution_count": 15,
   "metadata": {},
   "outputs": [],
   "source": [
    "O_vac_0 = {'struc':[], 'E': [], 'comp':[], 'vol':[]}\n",
    "O_vac_1 = {'struc':[], 'E': [], 'comp':[], 'vol':[]}\n",
    "O_vac_2 = {'struc':[], 'E': [], 'comp':[], 'vol':[]}\n",
    "O_vac_3 = {'struc':[], 'E': [], 'comp':[], 'vol':[]}\n",
    "\n",
    "path = '../../../Data/Jsons/SQS_jsons'\n",
    "def get_json(filename, results):\n",
    "\n",
    "    with open(f'{path}/{filename}.json') as data:\n",
    "            cluster_data = json.load(data)\n",
    "    for calculation in (cluster_data['calculation_results']):\n",
    "        atoms = ase.Atoms(numbers=calculation['structure']['numbers'],\n",
    "                          positions=calculation['structure']['positions'],\n",
    "                          pbc=calculation['structure']['pbc'],\n",
    "                          cell=calculation['structure']['cell'])\n",
    "        numbers = atoms.numbers\n",
    "        energy = float(calculation['energy']) *27.2114 # The CRYSTAL17 code returns energies \n",
    "        # in Hartree, so the output is converted to electronvolts (1 Ha = 27.2114 eV)\n",
    "        x_O = - (( ((np.count_nonzero(numbers == 8) - 48)/48)*100 ) ) # oxygen deficiency\n",
    "        vol = atoms.cell.volume / 8 # volume per unit cell \n",
    "        results['E'].append(energy)\n",
    "        results['comp'].append(x_O)\n",
    "        results['vol'].append(vol)\n",
    "        results['struc'].append(atoms)\n",
    "\n",
    "get_json('LNMO_SQS_fully_lithiated',O_vac_0)\n",
    "get_json('LNMO_SQS_1_O_vac',O_vac_1)\n",
    "get_json('LNMO_SQS_2_O_vac',O_vac_2)\n",
    "get_json('LNMO_SQS_3_O_vac',O_vac_3)\n",
    "\n",
    "data = [list(O_vac_0['vol']), \n",
    "        list(O_vac_1['vol']), \n",
    "        list(O_vac_2['vol']), \n",
    "        list(O_vac_3['vol']) ]"
   ]
  },
  {
   "cell_type": "code",
   "execution_count": null,
   "metadata": {},
   "outputs": [],
   "source": []
  },
  {
   "cell_type": "code",
   "execution_count": 16,
   "metadata": {},
   "outputs": [
    {
     "data": {
      "image/png": "[encoded data removed]",
      "text/plain": [
       "<Figure size 144x129.6 with 1 Axes>"
      ]
     },
     "metadata": {
      "image/png": {
       "height": 173,
       "width": 187
      },
      "needs_background": "light"
     },
     "output_type": "display_data"
    }
   ],
   "source": [
    "fig, axes = plt.subplots(nrows=1, ncols=1,figsize=(2.0, 1.8))\n",
    "a = axes\n",
    "colors = ['tab:blue',\n",
    "          'tab:orange',\n",
    "          'tab:green',\n",
    "          'tab:red',\n",
    "          'tab:purple',\n",
    "          'tab:brown',\n",
    "          'tab:pink']\n",
    "\n",
    "whiskerprops = dict(color = 'k', alpha = 0.65)\n",
    "capprops = dict(color = 'k', alpha = 0.65)\n",
    "flierprops = dict(marker='o', markerfacecolor='grey', markersize=1, alpha = 0.65,\n",
    "                  linestyle='none')\n",
    "medianprops = dict(linestyle='-', linewidth=1.0, color='k')\n",
    "box = a.boxplot(data, \n",
    "                flierprops=flierprops, \n",
    "                medianprops=medianprops, \n",
    "                whiskerprops = whiskerprops, \n",
    "                patch_artist=True)\n",
    "\n",
    "marker_size = 3\n",
    "a.plot([1]*len(O_vac_0['vol']),O_vac_0['vol'],'o', markersize = marker_size)\n",
    "a.plot([2]*len(O_vac_1['vol']),O_vac_1['vol'],'o', markersize = marker_size)\n",
    "a.plot([3]*len(O_vac_2['vol']),O_vac_2['vol'],'o', markersize = marker_size)\n",
    "a.plot([4]*len(O_vac_3['vol']),O_vac_3['vol'],'o', markersize = marker_size)\n",
    "\n",
    "for patch, color in zip(box['boxes'], colors):\n",
    "    patch.set_edgecolor('k')\n",
    "    patch.set_facecolor(color)\n",
    "    patch.set_alpha(0.65)\n",
    "\n",
    "a.set_xlabel('Oxygen deficiency (%)')\n",
    "a.set_ylabel('Unit cell lattice volume (Å$^{3}$)')\n",
    "\n",
    "x1 = [-1,10]\n",
    "y1 = [0,0]\n",
    "a.set_xlim([0.5, 4.5])\n",
    "a.set_ylim([98, 101.0])\n",
    "a.set_xticks([1,2,3,4])\n",
    "a.set_xticklabels(['0','2.08','4.17','6.25',])\n",
    "\n",
    "fig.subplots_adjust(bottom=0.0, top=1.0, left=0.0, right=0.9,\n",
    "                    wspace=0.2, hspace=0.075)\n",
    "\n",
    "plt.savefig('Figure_S13-lattice_volume_expansion.svg', dpi=300, bbox_inches='tight')\n",
    "plt.savefig('Figure_S13-lattice_volume_expansion.png', dpi=300, bbox_inches='tight')\n",
    "\n",
    "plt.show()"
   ]
  },
  {
   "cell_type": "code",
   "execution_count": null,
   "metadata": {},
   "outputs": [],
   "source": []
  },
  {
   "cell_type": "code",
   "execution_count": null,
   "metadata": {},
   "outputs": [],
   "source": []
  }
 ],
 "metadata": {
  "kernelspec": {
   "display_name": "Python 3",
   "language": "python",
   "name": "python3"
  },
  "language_info": {
   "codemirror_mode": {
    "name": "ipython",
    "version": 3
   },
   "file_extension": ".py",
   "mimetype": "text/x-python",
   "name": "python",
   "nbconvert_exporter": "python",
   "pygments_lexer": "ipython3",
   "version": "3.7.4"
  }
 },
 "nbformat": 4,
 "nbformat_minor": 2
}
