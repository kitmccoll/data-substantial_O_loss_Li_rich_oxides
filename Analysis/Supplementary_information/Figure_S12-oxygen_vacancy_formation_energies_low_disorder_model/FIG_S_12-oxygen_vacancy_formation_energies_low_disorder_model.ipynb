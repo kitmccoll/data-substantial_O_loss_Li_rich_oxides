{
 "cells": [
  {
   "cell_type": "code",
   "execution_count": 82,
   "metadata": {},
   "outputs": [
    {
     "name": "stdout",
     "output_type": "stream",
     "text": [
      "FIG_S_12-oxygen_vacancy_formation_energies_low_disorder_model.ipynb\r\n",
      "Figure_S12-oxygen_vacancy_formation_energies_low_disorder_model.png\r\n"
     ]
    }
   ],
   "source": [
    "# import the modules we need. \n",
    "\n",
    "import ase\n",
    "from pymatgen import Structure\n",
    "from ase.io import read, write\n",
    "from ase import Atoms\n",
    "from icet import (ClusterSpace, StructureContainer,\n",
    "                  CrossValidationEstimator, ClusterExpansion)\n",
    "from pymatgen.io.ase import AseAtomsAdaptor\n",
    "from tqdm import tqdm\n",
    "from icet.tools.structure_generation import occupy_structure_randomly\n",
    "\n",
    "from ase import Atom\n",
    "from ase.build import bulk\n",
    "from icet import ClusterSpace\n",
    "from icet.tools.structure_generation import *\n",
    "\n",
    "import json\n",
    "\n",
    "import matplotlib.pyplot as plt\n",
    "import matplotlib.style as style\n",
    "%matplotlib inline\n",
    "%config InlineBackend.figure_format = 'retina'\n",
    "plt.rcParams[\"font.family\"] = \"Helvetica\"\n",
    "plt.rcParams[\"mathtext.fontset\"] ='custom'\n",
    "plt.rcParams['mathtext.rm'] = 'Helvetica'\n",
    "plt.rcParams['mathtext.it'] = 'Helvetica:italic'\n",
    "plt.rcParams['mathtext.bf'] = 'Helvetica'\n",
    "plt.rcParams[\"font.size\"] = \"8\"\n",
    "plt.rcParams['axes.linewidth'] = 0.75\n",
    "plt.rcParams['lines.linewidth'] = 0.75\n",
    "plt.rcParams['lines.markersize'] = 4\n",
    "\n",
    "! ls  "
   ]
  },
  {
   "cell_type": "code",
   "execution_count": 83,
   "metadata": {},
   "outputs": [
    {
     "name": "stdout",
     "output_type": "stream",
     "text": [
      "LNMO_layered_in_plane_disorder_O_vac.json\r\n",
      "LNMO_layered_in_plane_pristine_voids.json\r\n",
      "LNMO_layered_out_of_plane_O_vac.json\r\n",
      "LNMO_layered_out_of_plane_pristine.json\r\n"
     ]
    }
   ],
   "source": [
    "ls ../../../Data/Jsons/Low_disorder_model_jsons/"
   ]
  },
  {
   "cell_type": "code",
   "execution_count": 84,
   "metadata": {},
   "outputs": [
    {
     "name": "stdout",
     "output_type": "stream",
     "text": [
      "{'struc': [Atoms(symbols='Li42Mn24Ni6O72', pbc=True, cell=[[11.3822189166, -0.0184889226802, -0.00459530634688], [-4.19600084349, 7.44566544634, -0.0173597074717], [0.152334319655, -0.0750089001727, 14.0084555535]])], 'E': [-1153841.5843544323], 'comp': [1.5], 'vol': []}\n",
      "{'struc': [Atoms(symbols='Li42Mn24Ni6O72', pbc=True, cell=[[11.3822189166, -0.0184889226802, -0.00459530634688], [-4.19600084349, 7.44566544634, -0.0173597074717], [0.152334319655, -0.0750089001727, 14.0084555535]])], 'E': [-1153841.5843544323], 'comp': [1.5], 'vol': []}\n",
      "{'struc': [Atoms(symbols='Li42Mn24Ni6O71', pbc=True, cell=[[11.3968196065, -0.0457881749466, -0.038846563593], [-4.21937137438, 7.46362558493, -0.000213680219161], [0.110471004155, -0.0666964512909, 14.0406909275]]), Atoms(symbols='Li42Mn24Ni6O71', pbc=True, cell=[[11.4471638895, 0.0163314571395, 0.0221903618214], [-4.19705836884, 7.44467597731, 0.00361993135182], [0.185749291844, -0.0167973722704, 14.0125236586]]), Atoms(symbols='Li42Mn24Ni6O71', pbc=True, cell=[[11.4355761312, -0.0487999368499, -0.0382305437574], [-4.23578671835, 7.45723838207, -0.000647910165154], [0.111739561796, -0.0669507371003, 14.0363939927]]), Atoms(symbols='Li42Mn24Ni6O71', pbc=True, cell=[[11.4151900392, -0.0160710495442, -0.0198450791711], [-4.20646108249, 7.46688045696, 0.0138101793185], [0.134119263306, -0.0271117018164, 14.0245684804]])], 'E': [-1151800.8238626178, -1151798.3909678077, -1151798.63799072, -1151799.3935829976], 'comp': [1.4791666666666667, 1.4791666666666667, 1.4791666666666667, 1.4791666666666667], 'vol': []}\n"
     ]
    }
   ],
   "source": [
    "# O2\n",
    "O2 = {'struc':[], 'E': [], 'comp':[], 'vol':[]}\n",
    "\n",
    "# in plane migration\n",
    "\n",
    "in_plane_to_map = {'struc':[], 'E': [], 'comp':[], 'vol':[]}\n",
    "in_plane_pristine = {'struc':[], 'E': [], 'comp':[], 'vol':[]}\n",
    "in_plane_O_vacancy = {'struc':[], 'E': [], 'comp':[], 'vol':[]}\n",
    "\n",
    "# out-of-plane migration\n",
    "\n",
    "out_plane_to_map = {'struc':[], 'E': [], 'comp':[], 'vol':[]}\n",
    "out_plane_pristine = {'struc':[], 'E': [], 'comp':[], 'vol':[]}\n",
    "out_plane_O_vacancy = {'struc':[], 'E': [], 'comp':[], 'vol':[]}\n",
    "\n",
    "def get_json(pathname, results):\n",
    "\n",
    "    with open(f'{pathname}.json') as data:\n",
    "            cluster_data = json.load(data)\n",
    "    for n, calculation in enumerate(cluster_data['calculation_results']):\n",
    "        atoms = ase.Atoms(numbers=calculation['structure']['numbers'],\n",
    "                          positions=calculation['structure']['positions'],\n",
    "                          pbc=calculation['structure']['pbc'],\n",
    "                          cell=calculation['structure']['cell'])\n",
    "        numbers = atoms.numbers\n",
    "        epfu = float(calculation['energy']) *27.2114 # convert from Hartree to eV\n",
    "        x_O = ( np.count_nonzero(numbers == 8) / 48 ) \n",
    "        results['E'].append(epfu)\n",
    "        results['comp'].append(x_O)\n",
    "        results['struc'].append(atoms)\n",
    "\n",
    "path = '../../../Data/Jsons'\n",
    "\n",
    "# import the pristine structure that we can map the O_vacany structures to\n",
    "get_json(f'{path}/O2_jsons/O2',O2)\n",
    "\n",
    "# import in-plane\n",
    "get_json(f'{path}/Pristine_layered_jsons/LNMO_layered_pristine',in_plane_to_map)\n",
    "get_json(f'{path}/Low_disorder_model_jsons/LNMO_layered_in_plane_pristine_voids',in_plane_pristine)\n",
    "get_json(f'{path}/Low_disorder_model_jsons/LNMO_layered_in_plane_disorder_O_vac',in_plane_O_vacancy)\n",
    "\n",
    "# import out-of-plane\n",
    "\n",
    "get_json(f'{path}/Low_disorder_model_jsons/LNMO_layered_out_of_plane_pristine',out_plane_to_map)\n",
    "get_json(f'{path}/Low_disorder_model_jsons/LNMO_layered_out_of_plane_pristine',out_plane_pristine)\n",
    "get_json(f'{path}/Low_disorder_model_jsons/LNMO_layered_out_of_plane_O_vac',out_plane_O_vacancy)\n",
    "\n",
    "print(out_plane_to_map)\n",
    "print(out_plane_pristine)\n",
    "print(out_plane_O_vacancy)"
   ]
  },
  {
   "cell_type": "code",
   "execution_count": null,
   "metadata": {},
   "outputs": [],
   "source": []
  },
  {
   "cell_type": "code",
   "execution_count": 85,
   "metadata": {},
   "outputs": [
    {
     "name": "stdout",
     "output_type": "stream",
     "text": [
      "Atoms(symbols='Li42Mn24Ni6O71X', pbc=True, cell=[[11.3500060394, 0.0114506713523, 0.00426001640032], [-4.24858721834, 7.43532350155, -0.0128569241401], [0.00365724683853, -0.0223094908573, 14.0120566483]], Displacement=..., Displacement_Magnitude=..., Minimum_Distances=...)\n",
      "Atoms(symbols='Li42Mn24Ni6O71X', pbc=True, cell=[[11.3500060394, 0.0114506713523, 0.00426001640032], [-4.24858721834, 7.43532350155, -0.0128569241401], [0.00365724683853, -0.0223094908573, 14.0120566483]], Displacement=..., Displacement_Magnitude=..., Minimum_Distances=...)\n",
      "Atoms(symbols='Li42Mn24Ni6O71X', pbc=True, cell=[[11.3500060394, 0.0114506713523, 0.00426001640032], [-4.24858721834, 7.43532350155, -0.0128569241401], [0.00365724683853, -0.0223094908573, 14.0120566483]], Displacement=..., Displacement_Magnitude=..., Minimum_Distances=...)\n",
      "Atoms(symbols='Li42Mn24Ni6O71X', pbc=True, cell=[[11.3500060394, 0.0114506713523, 0.00426001640032], [-4.24858721834, 7.43532350155, -0.0128569241401], [0.00365724683853, -0.0223094908573, 14.0120566483]], Displacement=..., Displacement_Magnitude=..., Minimum_Distances=...)\n",
      "Atoms(symbols='Li42Mn24Ni6O71X', pbc=True, cell=[[11.3500060394, 0.0114506713523, 0.00426001640032], [-4.24858721834, 7.43532350155, -0.0128569241401], [0.00365724683853, -0.0223094908573, 14.0120566483]], Displacement=..., Displacement_Magnitude=..., Minimum_Distances=...)\n",
      "Atoms(symbols='Li42Mn24Ni6O71X', pbc=True, cell=[[11.3500060394, 0.0114506713523, 0.00426001640032], [-4.24858721834, 7.43532350155, -0.0128569241401], [0.00365724683853, -0.0223094908573, 14.0120566483]], Displacement=..., Displacement_Magnitude=..., Minimum_Distances=...)\n",
      "Atoms(symbols='Li42Mn24Ni6O71X', pbc=True, cell=[[11.3500060394, 0.0114506713523, 0.00426001640032], [-4.24858721834, 7.43532350155, -0.0128569241401], [0.00365724683853, -0.0223094908573, 14.0120566483]], Displacement=..., Displacement_Magnitude=..., Minimum_Distances=...)\n",
      "Atoms(symbols='Li42Mn24Ni6O71X', pbc=True, cell=[[11.3500060394, 0.0114506713523, 0.00426001640032], [-4.24858721834, 7.43532350155, -0.0128569241401], [0.00365724683853, -0.0223094908573, 14.0120566483]], Displacement=..., Displacement_Magnitude=..., Minimum_Distances=...)\n",
      "Atoms(symbols='Li42Mn24Ni6O71X', pbc=True, cell=[[11.3500060394, 0.0114506713523, 0.00426001640032], [-4.24858721834, 7.43532350155, -0.0128569241401], [0.00365724683853, -0.0223094908573, 14.0120566483]], Displacement=..., Displacement_Magnitude=..., Minimum_Distances=...)\n",
      "Atoms(symbols='Li42Mn24Ni6O71X', pbc=True, cell=[[11.3500060394, 0.0114506713523, 0.00426001640032], [-4.24858721834, 7.43532350155, -0.0128569241401], [0.00365724683853, -0.0223094908573, 14.0120566483]], Displacement=..., Displacement_Magnitude=..., Minimum_Distances=...)\n",
      "10\n",
      "Atoms(symbols='Li42Mn24Ni6O71X', pbc=True, cell=[[11.3822189166, -0.0184889226802, -0.00459530634688], [-4.19600084349, 7.44566544634, -0.0173597074717], [0.152334319655, -0.0750089001727, 14.0084555535]], Displacement=..., Displacement_Magnitude=..., Minimum_Distances=...)\n",
      "Atoms(symbols='Li42Mn24Ni6O71X', pbc=True, cell=[[11.3822189166, -0.0184889226802, -0.00459530634688], [-4.19600084349, 7.44566544634, -0.0173597074717], [0.152334319655, -0.0750089001727, 14.0084555535]], Displacement=..., Displacement_Magnitude=..., Minimum_Distances=...)\n",
      "Atoms(symbols='Li42Mn24Ni6O71X', pbc=True, cell=[[11.3822189166, -0.0184889226802, -0.00459530634688], [-4.19600084349, 7.44566544634, -0.0173597074717], [0.152334319655, -0.0750089001727, 14.0084555535]], Displacement=..., Displacement_Magnitude=..., Minimum_Distances=...)\n",
      "Atoms(symbols='Li42Mn24Ni6O71X', pbc=True, cell=[[11.3822189166, -0.0184889226802, -0.00459530634688], [-4.19600084349, 7.44566544634, -0.0173597074717], [0.152334319655, -0.0750089001727, 14.0084555535]], Displacement=..., Displacement_Magnitude=..., Minimum_Distances=...)\n",
      "4\n"
     ]
    }
   ],
   "source": [
    "from icet.tools import map_structure_to_reference\n",
    "\n",
    "# map the in-plane structures\n",
    "in_plane_mapped_O_vac_structures = []\n",
    "for s in in_plane_O_vacancy['struc']:\n",
    "    ideal_structure, info = map_structure_to_reference(s, in_plane_to_map['struc'][0] )\n",
    "    print(ideal_structure)\n",
    "    in_plane_mapped_O_vac_structures.append(ideal_structure)\n",
    "print(len(in_plane_mapped_O_vac_structures))    \n",
    "    \n",
    "out_plane_mapped_O_vac_structures = []\n",
    "for s in out_plane_O_vacancy['struc']:\n",
    "    ideal_structure, info = map_structure_to_reference(s, out_plane_to_map['struc'][0] )\n",
    "    print(ideal_structure)\n",
    "    out_plane_mapped_O_vac_structures.append(ideal_structure)\n",
    "print(len(out_plane_mapped_O_vac_structures))\n",
    "#write('mapped_example.cif',(out_plane_mapped_O_vac_structures[0]))"
   ]
  },
  {
   "cell_type": "code",
   "execution_count": 86,
   "metadata": {},
   "outputs": [
    {
     "name": "stdout",
     "output_type": "stream",
     "text": [
      "3\n",
      "3\n",
      "3\n",
      "3\n",
      "2\n",
      "2\n",
      "2\n",
      "1\n",
      "1\n",
      "0\n",
      "[3, 3, 3, 3, 2, 2, 2, 1, 1, 0]\n",
      "0\n",
      "1\n",
      "1\n",
      "1\n",
      "[0, 1, 1, 1]\n"
     ]
    }
   ],
   "source": [
    "from polyhedral_analysis.configuration import Configuration\n",
    "from polyhedral_analysis.octahedral_analysis import *\n",
    "from polyhedral_analysis.polyhedra_recipe import PolyhedraRecipe\n",
    "\n",
    "recipe_X = PolyhedraRecipe( method='distance cutoff', \n",
    "                          coordination_cutoff=2.5, \n",
    "                          central_atoms='X',\n",
    "                          vertex_atoms=['Li','Mn','Ni'])\n",
    "\n",
    "# count the in-plane Li neighbours\n",
    "in_plane_n_Li_neighbours = []\n",
    "for m in in_plane_mapped_O_vac_structures:\n",
    "    pymat_m = AseAtomsAdaptor.get_structure(m)\n",
    "    config_X = Configuration( structure=pymat_m, recipes=[recipe_X] )\n",
    "    for p in config_X.polyhedra:\n",
    "        n =  6-(p.vertex_labels.count('Li'))\n",
    "        print(n)\n",
    "    in_plane_n_Li_neighbours.append(n)\n",
    "print(in_plane_n_Li_neighbours)\n",
    "\n",
    "out_plane_n_Li_neighbours = []\n",
    "for m in out_plane_mapped_O_vac_structures:\n",
    "    pymat_m = AseAtomsAdaptor.get_structure(m)\n",
    "    config_X = Configuration( structure=pymat_m, recipes=[recipe_X] )\n",
    "    for p in config_X.polyhedra:\n",
    "        n =  6-(p.vertex_labels.count('Li'))\n",
    "        print(n)\n",
    "    out_plane_n_Li_neighbours.append(n)\n",
    "print(out_plane_n_Li_neighbours)"
   ]
  },
  {
   "cell_type": "code",
   "execution_count": 87,
   "metadata": {},
   "outputs": [
    {
     "name": "stdout",
     "output_type": "stream",
     "text": [
      "3 -1151801.4094709938\n",
      "4.512059786296959\n",
      "3 -1151802.0749402028\n",
      "3.846590577331881\n",
      "3 -1151801.3318461215\n",
      "4.58968465862381\n",
      "3 -1151801.8465064864\n",
      "4.075024293675597\n",
      "2 -1151802.5333393656\n",
      "3.3881914144712937\n",
      "2 -1151803.357091846\n",
      "2.5644389341450733\n",
      "2 -1151802.3234602863\n",
      "3.598070493839259\n",
      "1 -1151801.2670707444\n",
      "0.22504167788247287\n",
      "1 -1151801.297026958\n",
      "0.19508546421820938\n",
      "0 -1151800.3191746867\n",
      "-4.221684218444352\n",
      "[4.512059786296959, 3.846590577331881, 4.58968465862381, 4.075024293675597, 3.3881914144712937, 2.5644389341450733, 3.598070493839259, 0.22504167788247287, 0.19508546421820938, -4.221684218444352]\n",
      "-2.8458597798035044\n",
      "-0.41296496970062435\n",
      "-0.659987882072528\n",
      "-1.4155801595788944\n",
      "[-2.8458597798035044, -0.41296496970062435, -0.659987882072528, -1.4155801595788944]\n"
     ]
    }
   ],
   "source": [
    "in_plane_O_vac_energies = []\n",
    "for n, e in zip(in_plane_n_Li_neighbours,in_plane_O_vacancy['E']):\n",
    "    print(n ,e)\n",
    "    if n == 3:\n",
    "        O_vac_E = e - in_plane_pristine['E'][0] + (0.5*O2['E'][0])\n",
    "        print(O_vac_E)\n",
    "        in_plane_O_vac_energies.append(O_vac_E)\n",
    "    if n == 2:\n",
    "        O_vac_E = e - in_plane_pristine['E'][0] + (0.5*O2['E'][0])\n",
    "        print(O_vac_E)\n",
    "        in_plane_O_vac_energies.append(O_vac_E)\n",
    "    if n == 1:\n",
    "        O_vac_E = e - in_plane_pristine['E'][1] + (0.5*O2['E'][0])\n",
    "        print(O_vac_E)\n",
    "        in_plane_O_vac_energies.append(O_vac_E)\n",
    "    if n == 0:\n",
    "        O_vac_E = e - in_plane_pristine['E'][2] + (0.5*O2['E'][0])\n",
    "        print(O_vac_E)\n",
    "        in_plane_O_vac_energies.append(O_vac_E)\n",
    "\n",
    "print(in_plane_O_vac_energies)\n",
    "\n",
    "\n",
    "out_plane_O_vac_energies = []\n",
    "for e in out_plane_O_vacancy['E']:\n",
    "    O_vac_E = e - out_plane_pristine['E'][0] + (0.5*O2['E'][0])\n",
    "    print(O_vac_E)\n",
    "    out_plane_O_vac_energies.append(O_vac_E)\n",
    "\n",
    "print(out_plane_O_vac_energies)"
   ]
  },
  {
   "cell_type": "code",
   "execution_count": 88,
   "metadata": {},
   "outputs": [],
   "source": [
    "data = [[],[],[],[],[],[],[]]\n",
    "\n",
    "for n, e in zip(in_plane_n_Li_neighbours,in_plane_O_vac_energies):\n",
    "    data[n].append(e)\n",
    "    \n",
    "for n, e in zip(out_plane_n_Li_neighbours,out_plane_O_vac_energies):\n",
    "    data[n].append(e)\n",
    "    \n",
    "    "
   ]
  },
  {
   "cell_type": "code",
   "execution_count": 89,
   "metadata": {},
   "outputs": [
    {
     "name": "stdout",
     "output_type": "stream",
     "text": [
      "[[-4.221684218444352, -2.8458597798035044], [0.22504167788247287, 0.19508546421820938, -0.41296496970062435, -0.659987882072528, -1.4155801595788944], [3.3881914144712937, 2.5644389341450733, 3.598070493839259], [4.512059786296959, 3.846590577331881, 4.58968465862381, 4.075024293675597], [], [], []]\n"
     ]
    }
   ],
   "source": [
    "print(data)"
   ]
  },
  {
   "cell_type": "code",
   "execution_count": 92,
   "metadata": {},
   "outputs": [
    {
     "data": {
      "image/png": "[encoded data removed]",
      "text/plain": [
       "<Figure size 151.2x122.4 with 1 Axes>"
      ]
     },
     "metadata": {
      "image/png": {
       "height": 194,
       "width": 178
      },
      "needs_background": "light"
     },
     "output_type": "display_data"
    }
   ],
   "source": [
    "\n",
    "\n",
    "fig, axes = plt.subplots(nrows=1, ncols=1,figsize=(2.1, 1.7))\n",
    "\n",
    "a = axes\n",
    "\n",
    "\n",
    "O_bar_colors = ['tab:blue',\n",
    "              'tab:orange',\n",
    "              'tab:green',\n",
    "              'tab:red', \n",
    "              'tab:purple',\n",
    "              'tab:brown',\n",
    "              'tab:pink']\n",
    "\n",
    "x = ['O–Li$_6$','O–Li$_5$TM',\n",
    "     'O–Li$_4$TM$_2$','O–Li$_3$TM$_3$',\n",
    "     'O–Li$_2$TM$_4$','O–Li$_1$TM$_5$','O–Li$_0$TM$_6$']\n",
    "\n",
    "N= len(x)\n",
    "ind = np.arange(N) \n",
    "width = 0.5\n",
    "linewidth = 0.75\n",
    "\n",
    "x1 = [-1,10]\n",
    "y1 = [0,0]\n",
    "\n",
    "colors = ['tab:blue',\n",
    "              'tab:orange',\n",
    "              'tab:green',\n",
    "              'tab:red', \n",
    "              'tab:purple',\n",
    "              'tab:brown',\n",
    "              'tab:pink']\n",
    "props = dict(color='black')\n",
    "\n",
    "flierprops = dict(marker='o', markerfacecolor='grey', markersize=1,\n",
    "                  linestyle='none')\n",
    "medianprops = dict(linestyle='-', linewidth=1.0, color='grey')\n",
    "\n",
    "box_1 = a.boxplot(data, flierprops=flierprops, \n",
    "                  medianprops=medianprops, patch_artist=True)\n",
    "\n",
    "marker_size = 3\n",
    "\n",
    "a.plot([1]*len(data[0]),data[0],'o', color='tab:blue', markersize = marker_size)\n",
    "a.plot([2]*len(data[1]),data[1],'o', color='tab:orange', markersize = marker_size)\n",
    "a.plot([3]*len(data[2]),data[2],'o', color='tab:green', markersize = marker_size)\n",
    "a.plot([4]*len(data[3]),data[3],'o', color='tab:red', markersize = marker_size)\n",
    "\n",
    "for patch, color in zip(box_1['boxes'], colors):\n",
    "    patch.set_edgecolor('k')\n",
    "    patch.set_facecolor(color)\n",
    "    patch.set_alpha(0.65)\n",
    "\n",
    "a.set_ylabel('O vacancy formation energy (eV)')\n",
    "\n",
    "bottom_axes = [a]\n",
    "for axis in bottom_axes:\n",
    "    axis.set_xlabel('O–{Li,Mn,Ni} sites')\n",
    "    axis.set_xticks([1,2,3,4,5,6,7])\n",
    "    axis.set_xlim([0.5, 7.5])\n",
    "    axis.set_ylim([-6.1, 6.1])\n",
    "    axis.plot(x1 , y1 , '--', color='black', alpha=0.55)\n",
    "    axis.set_xticks(ind+1)\n",
    "    axis.set_xticklabels(x, rotation = 75)\n",
    "    \n",
    "text_y_position = 53\n",
    "text_y_position_2 = 55\n",
    "\n",
    "fig.subplots_adjust(bottom=0.0, top=1.0, left=0.0, right=0.9,\n",
    "                    wspace=0.25, hspace=0.075)\n",
    "\n",
    "plt.savefig('Figure_S12-oxygen_vacancy_formation_energies_low_disorder_model.png', \n",
    "            dpi=300, bbox_inches='tight')\n",
    "plt.savefig('Figure_S12-oxygen_vacancy_formation_energies_low_disorder_model.svg', \n",
    "            dpi=300, bbox_inches='tight')\n",
    "\n",
    "plt.show()"
   ]
  },
  {
   "cell_type": "code",
   "execution_count": null,
   "metadata": {},
   "outputs": [],
   "source": []
  },
  {
   "cell_type": "code",
   "execution_count": null,
   "metadata": {},
   "outputs": [],
   "source": []
  },
  {
   "cell_type": "code",
   "execution_count": null,
   "metadata": {},
   "outputs": [],
   "source": []
  },
  {
   "cell_type": "code",
   "execution_count": null,
   "metadata": {},
   "outputs": [],
   "source": []
  }
 ],
 "metadata": {
  "kernelspec": {
   "display_name": "Python 3",
   "language": "python",
   "name": "python3"
  },
  "language_info": {
   "codemirror_mode": {
    "name": "ipython",
    "version": 3
   },
   "file_extension": ".py",
   "mimetype": "text/x-python",
   "name": "python",
   "nbconvert_exporter": "python",
   "pygments_lexer": "ipython3",
   "version": "3.7.4"
  }
 },
 "nbformat": 4,
 "nbformat_minor": 2
}
