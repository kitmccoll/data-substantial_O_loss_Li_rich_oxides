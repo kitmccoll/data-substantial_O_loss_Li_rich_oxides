{
 "cells": [
  {
   "cell_type": "code",
   "execution_count": 41,
   "metadata": {},
   "outputs": [
    {
     "name": "stdout",
     "output_type": "stream",
     "text": [
      "FIG_S_10_O_environment_breakdown.ipynb\r\n",
      "Figure_S10-oxygen_environment_breakdown.png\r\n"
     ]
    }
   ],
   "source": [
    "import ase\n",
    "import json\n",
    "from ase import Atoms\n",
    "import numpy as np\n",
    "from ase.io import read, write\n",
    "from pymatgen import Structure\n",
    "\n",
    "from pymatgen.io.ase import AseAtomsAdaptor\n",
    "from tqdm import tqdm\n",
    "\n",
    "from polyhedral_analysis.configuration import Configuration\n",
    "from polyhedral_analysis.octahedral_analysis import *\n",
    "from polyhedral_analysis.polyhedra_recipe import PolyhedraRecipe\n",
    "\n",
    "import matplotlib.pyplot as plt\n",
    "import matplotlib.style as style\n",
    "%matplotlib inline\n",
    "%config InlineBackend.figure_format = 'retina'\n",
    "plt.rcParams[\"font.family\"] = \"Helvetica\"\n",
    "plt.rcParams[\"mathtext.fontset\"] ='custom'\n",
    "plt.rcParams['mathtext.rm'] = 'Helvetica'\n",
    "plt.rcParams['mathtext.it'] = 'Helvetica:italic'\n",
    "plt.rcParams['mathtext.bf'] = 'Helvetica'\n",
    "plt.rcParams[\"font.size\"] = \"8\"\n",
    "plt.rcParams['axes.linewidth'] = 0.75\n",
    "plt.rcParams['lines.linewidth'] = 0.75\n",
    "plt.rcParams['lines.markersize'] = 4\n",
    "\n",
    "! ls"
   ]
  },
  {
   "cell_type": "code",
   "execution_count": null,
   "metadata": {},
   "outputs": [],
   "source": []
  },
  {
   "cell_type": "code",
   "execution_count": 42,
   "metadata": {},
   "outputs": [],
   "source": [
    "path = '../../../Data/structure_files'\n",
    "struc = Structure.from_file(filename=f'{path}/LNMO_pristine_from_CE_MC.cif')\n",
    "#print(struc)"
   ]
  },
  {
   "cell_type": "code",
   "execution_count": 43,
   "metadata": {},
   "outputs": [],
   "source": [
    "struc['Na'] = 'Li'\n",
    "#print(struc)"
   ]
  },
  {
   "cell_type": "code",
   "execution_count": 44,
   "metadata": {},
   "outputs": [],
   "source": [
    "recipe_O = PolyhedraRecipe( method='distance cutoff', \n",
    "                          coordination_cutoff=2.5, \n",
    "                          central_atoms='O',\n",
    "                          vertex_atoms=['Li','Mn','Ni'])"
   ]
  },
  {
   "cell_type": "code",
   "execution_count": 45,
   "metadata": {},
   "outputs": [],
   "source": [
    "def get_envs(structure):\n",
    "    config_O = Configuration( structure=structure, recipes=[recipe_O] )\n",
    "\n",
    "    O_Mn3 = []\n",
    "    O_Ni3 = []\n",
    "    O_Mn2Ni = []\n",
    "    O_Ni2Mn = []\n",
    "    O_Mn2Li = []\n",
    "    O_Ni2Li = []\n",
    "    O_MnNiLi = []\n",
    "\n",
    "    for p in config_O.polyhedra:\n",
    "        if p.vertex_labels.count('Mn') == 3:\n",
    "            O_Mn3.append(p)\n",
    "        if p.vertex_labels.count('Ni') == 3:\n",
    "            O_Ni3.append(p)\n",
    "\n",
    "        if p.vertex_labels.count('Mn') == 2 and p.vertex_labels.count('Ni') == 1:\n",
    "            O_Mn2Ni.append(p)\n",
    "        if p.vertex_labels.count('Ni') == 2 and p.vertex_labels.count('Mn') == 1:\n",
    "            O_Ni2Mn.append(p)\n",
    "\n",
    "        if p.vertex_labels.count('Mn') == 2 and p.vertex_labels.count('Li') == 4:\n",
    "            O_Mn2Li.append(p)\n",
    "        if p.vertex_labels.count('Ni') == 2 and p.vertex_labels.count('Li') == 4:\n",
    "            O_Ni2Li.append(p)\n",
    "\n",
    "        if p.vertex_labels.count('Mn') == 1 and p.vertex_labels.count('Li') == 4:\n",
    "            O_MnNiLi.append(p)\n",
    "            \n",
    "    total = len(config_O.polyhedra)\n",
    "\n",
    "    frac_O_Mn3 = len(O_Mn3) / total * 100\n",
    "    frac_O_Ni3 = len(O_Ni3) / total * 100\n",
    "\n",
    "    frac_O_Mn2Ni = len(O_Mn2Ni) / total *100\n",
    "    frac_O_Ni2Mn = len(O_Ni2Mn) / total *100\n",
    "\n",
    "    frac_O_Mn2Li = len(O_Mn2Li) / total *100\n",
    "    frac_O_Ni2Li = len(O_Ni2Li) / total *100\n",
    "\n",
    "    frac_O_MnNiLi = len(O_MnNiLi) / total *100\n",
    "    \n",
    "    print('O-Mn3:',frac_O_Mn3,'atom 1:',O_Mn3[0].central_atom.index)\n",
    "    print('O-Ni3:',frac_O_Ni3,'atom 1:',O_Ni3[0].central_atom.index,'\\n')\n",
    "\n",
    "    print('O-Mn2Ni:',frac_O_Mn2Ni,'atom 1:',O_Mn2Ni[0].central_atom.index)\n",
    "    print('O-Ni2Mn:',frac_O_Ni2Mn,'atom 1:',O_Ni2Mn[0].central_atom.index,'\\n')\n",
    "\n",
    "    print('O-Mn2Li:',frac_O_Mn2Li,'atom 1:',O_Mn2Li[0].central_atom.index)\n",
    "    print('O-Ni2Li:',frac_O_Ni2Li,'atom 1:',O_Ni2Li[0].central_atom.index,'\\n')\n",
    "\n",
    "    print('O-MnNiLi:',frac_O_MnNiLi,'atom 1:',O_MnNiLi[0].central_atom.index)\n",
    "    \n",
    "    sites_list = [frac_O_Mn3, frac_O_Ni3, frac_O_Mn2Ni, frac_O_Ni2Mn, \n",
    "              frac_O_Mn2Li, frac_O_Ni2Li, frac_O_MnNiLi ]\n",
    "    \n",
    "    return sites_list"
   ]
  },
  {
   "cell_type": "code",
   "execution_count": 46,
   "metadata": {},
   "outputs": [
    {
     "name": "stdout",
     "output_type": "stream",
     "text": [
      "O-Mn3: 5.642361111111112 atom 1: 3464\n",
      "O-Ni3: 0.5787037037037037 atom 1: 3580 \n",
      "\n",
      "O-Mn2Ni: 40.10416666666667 atom 1: 3456\n",
      "O-Ni2Mn: 3.674768518518518 atom 1: 3488 \n",
      "\n",
      "O-Mn2Li: 49.21875 atom 1: 3507\n",
      "O-Ni2Li: 0.028935185185185182 atom 1: 3668 \n",
      "\n",
      "O-MnNiLi: 0.7523148148148148 atom 1: 3552\n"
     ]
    }
   ],
   "source": [
    "sites_list  = get_envs(struc)"
   ]
  },
  {
   "cell_type": "code",
   "execution_count": 47,
   "metadata": {},
   "outputs": [
    {
     "data": {
      "image/png": "[encoded data removed]",
      "text/plain": [
       "<Figure size 144x108 with 1 Axes>"
      ]
     },
     "metadata": {
      "image/png": {
       "height": 188,
       "width": 171
      },
      "needs_background": "light"
     },
     "output_type": "display_data"
    }
   ],
   "source": [
    "\n",
    "\n",
    "fig, axes = plt.subplots(nrows=1, ncols=1,figsize=(2.0, 1.5))\n",
    "\n",
    "a = axes\n",
    "\n",
    "O_bar_colors = ['tab:blue',\n",
    "              'tab:orange',\n",
    "              'tab:green',\n",
    "              'tab:red', \n",
    "              'tab:purple',\n",
    "              'tab:brown',\n",
    "              'tab:pink']\n",
    "\n",
    "x = ['O–Mn$_3$Li$_3$','O–Ni$_3$Li$_3$',\n",
    "     'O–Mn$_2$NiLi$_3$','O–Ni$_2$MnLi$_3$',\n",
    "     'O–Mn$_2$Li$_4$','O–Ni$_2$Li$_4$','O–MnNiLi$_4$']\n",
    "\n",
    "N= len(x)\n",
    "ind = np.arange(N) \n",
    "width = 0.5\n",
    "linewidth = 0.75\n",
    "\n",
    "a.bar(ind , sites_list , width, color=O_bar_colors, \n",
    "      alpha=0.65, edgecolor='k', linewidth = linewidth)\n",
    "\n",
    "a.set_xticks(ind)\n",
    "\n",
    "a.set_xticklabels(x, rotation = 75)\n",
    "\n",
    "left_axes = [a]\n",
    "for axis in left_axes:\n",
    "    axis.set_yticks([])\n",
    "    axis.set_ylabel('% sites')\n",
    "    axis.set_yticks([0,10,20,30,40,50,60])\n",
    "    \n",
    "a.set_xlabel('O–{Mn,Ni,Li} sites')\n",
    "    \n",
    "\n",
    "fig.subplots_adjust(bottom=0.0, top=1.0, left=0.0, right=0.9,\n",
    "                    wspace=0.2, hspace=0.075)\n",
    "\n",
    "plt.savefig('Figure_S10-oxygen_environment_breakdown.png', dpi=300, bbox_inches='tight')\n"
   ]
  },
  {
   "cell_type": "code",
   "execution_count": null,
   "metadata": {},
   "outputs": [],
   "source": []
  },
  {
   "cell_type": "code",
   "execution_count": null,
   "metadata": {},
   "outputs": [],
   "source": []
  },
  {
   "cell_type": "code",
   "execution_count": null,
   "metadata": {},
   "outputs": [],
   "source": []
  }
 ],
 "metadata": {
  "kernelspec": {
   "display_name": "Python 3",
   "language": "python",
   "name": "python3"
  },
  "language_info": {
   "codemirror_mode": {
    "name": "ipython",
    "version": 3
   },
   "file_extension": ".py",
   "mimetype": "text/x-python",
   "name": "python",
   "nbconvert_exporter": "python",
   "pygments_lexer": "ipython3",
   "version": "3.7.4"
  }
 },
 "nbformat": 4,
 "nbformat_minor": 2
}
